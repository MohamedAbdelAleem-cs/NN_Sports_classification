{
  "cells": [
    {
      "cell_type": "code",
      "execution_count": 1,
      "metadata": {
        "colab": {
          "base_uri": "https://localhost:8080/"
        },
        "id": "sN7grkeQOOQW",
        "outputId": "51a64f54-924e-4017-9f53-4efea69bbc44"
      },
      "outputs": [
        {
          "output_type": "stream",
          "name": "stdout",
          "text": [
            "Looking in indexes: https://pypi.org/simple, https://us-python.pkg.dev/colab-wheels/public/simple/\n",
            "Collecting tflearn\n",
            "  Downloading tflearn-0.5.0.tar.gz (107 kB)\n",
            "\u001b[K     |████████████████████████████████| 107 kB 5.2 MB/s \n",
            "\u001b[?25hRequirement already satisfied: numpy in /usr/local/lib/python3.8/dist-packages (from tflearn) (1.21.6)\n",
            "Requirement already satisfied: six in /usr/local/lib/python3.8/dist-packages (from tflearn) (1.15.0)\n",
            "Requirement already satisfied: Pillow in /usr/local/lib/python3.8/dist-packages (from tflearn) (7.1.2)\n",
            "Building wheels for collected packages: tflearn\n",
            "  Building wheel for tflearn (setup.py) ... \u001b[?25l\u001b[?25hdone\n",
            "  Created wheel for tflearn: filename=tflearn-0.5.0-py3-none-any.whl size=127299 sha256=9f64dd98211f51d2da4ade1110b26a04fec996caa381e25aea8f593965ff69be\n",
            "  Stored in directory: /root/.cache/pip/wheels/65/9b/15/cb1e6b279c14ed897530d15cfd7da8e3df8a947e593f5cfe59\n",
            "Successfully built tflearn\n",
            "Installing collected packages: tflearn\n",
            "Successfully installed tflearn-0.5.0\n"
          ]
        },
        {
          "output_type": "stream",
          "name": "stderr",
          "text": [
            "WARNING:tensorflow:From /usr/local/lib/python3.8/dist-packages/tensorflow/python/compat/v2_compat.py:107: disable_resource_variables (from tensorflow.python.ops.variable_scope) is deprecated and will be removed in a future version.\n",
            "Instructions for updating:\n",
            "non-resource variables are not supported in the long term\n"
          ]
        }
      ],
      "source": [
        "# This Python 3 environment comes with many helpful analytics libraries installed\n",
        "# It is defined by the kaggle/python Docker image: https://github.com/kaggle/docker-python\n",
        "# For example, here's several helpful packages to load\n",
        "!pip install tflearn \n",
        "import numpy as np # linear algebra\n",
        "import pandas as pd # data processing, CSV file I/O (e.g. pd.read_csv)\n",
        "import cv2\n",
        "import tensorflow as tf\n",
        "import tflearn\n",
        "from tflearn.layers.conv import conv_2d, max_pool_2d\n",
        "from tflearn.layers.core import input_data, dropout, fully_connected\n",
        "from tflearn.layers.estimator import regression\n",
        "\n",
        "\n",
        "# Input data files are available in the read-only \"../input/\" directory\n",
        "# For example, running this (by clicking run or pressing Shift+Enter) will list all files under the input directory\n",
        "\n",
        "import os\n",
        "#for dirname, _, filenames in os.walk('/kaggle/input'):\n",
        "    #for filename in filenames:\n",
        "        #print(os.path.join(dirname, filename))\n",
        "\n",
        "# You can write up to 20GB to the current directory (/kaggle/working/) that gets preserved as output when you create a version using \"Save & Run All\" \n",
        "# You can also write temporary files to /kaggle/temp/, but they won't be saved outside of the current session\n",
        "\n"
      ]
    },
    {
      "cell_type": "code",
      "execution_count": 2,
      "metadata": {
        "colab": {
          "base_uri": "https://localhost:8080/"
        },
        "id": "NRolAQIYOYE8",
        "outputId": "8b8ce4fe-8a38-499c-8b1e-bd5080b9d843"
      },
      "outputs": [
        {
          "output_type": "stream",
          "name": "stdout",
          "text": [
            "Mounted at /content/drive\n"
          ]
        }
      ],
      "source": [
        "from google.colab import drive\n",
        "drive.mount('/content/drive')"
      ]
    },
    {
      "cell_type": "code",
      "execution_count": 9,
      "metadata": {
        "colab": {
          "base_uri": "https://localhost:8080/"
        },
        "id": "8hBkBrvIOOQZ",
        "outputId": "815048ed-abbd-4b8d-893a-ac8c6297b8e6"
      },
      "outputs": [
        {
          "output_type": "stream",
          "name": "stdout",
          "text": [
            "6724\n"
          ]
        }
      ],
      "source": [
        "import random\n",
        "img_size=224\n",
        "training_data=[]\n",
        "#!unzip drive/My\\ Drive/NN\\ Project/NN\\ Dataset.zip\n",
        "for dirname, _, filenames in os.walk('Train'):\n",
        "    for filename in filenames:\n",
        "    #print(os.path.join(filename))\n",
        "    #data=cv2.imread()\n",
        "      path=os.path.join(dirname, filename)\n",
        "        \n",
        "      label=filename.replace('_','.')\n",
        "      label=label.split('.')\n",
        "      label=label[0]\n",
        "      img=cv2.imread(path,cv2.IMREAD_COLOR)\n",
        "      img = img[:, :, [2, 1, 0]]\n",
        "      img=cv2.resize(img,(img_size,img_size))\n",
        "      imgfliplr=cv2.flip(img,1)\n",
        "      imgrotate = cv2.rotate(img, cv2.ROTATE_90_CLOCKWISE)\n",
        "      imgflipud=cv2.flip(img,0)\n",
        "      if(label==\"Basketball\"):\n",
        "          label=[1,0,0,0,0,0]\n",
        "      elif(label==\"Football\"):\n",
        "          label=[0,1,0,0,0,0]\n",
        "      elif(label==\"Rowing\"):\n",
        "          label=[0,0,1,0,0,0]\n",
        "      elif(label==\"Swimming\"):\n",
        "          label=[0,0,0,1,0,0] \n",
        "      elif(label==\"Tennis\"):\n",
        "          label=[0,0,0,0,1,0]\n",
        "      elif(label==\"Yoga\"):\n",
        "          label=[0,0,0,0,0,1]\n",
        "            \n",
        "      training_data.append([np.array(img),label])\n",
        "      training_data.append([np.array(imgfliplr),label])\n",
        "      training_data.append([np.array(imgrotate),label])\n",
        "      training_data.append([np.array(imgflipud),label])\n",
        "      \n",
        "        \n",
        "random.shuffle(training_data)\n",
        "print(len(training_data))\n",
        "\n",
        "    "
      ]
    },
    {
      "cell_type": "code",
      "execution_count": 10,
      "metadata": {
        "colab": {
          "base_uri": "https://localhost:8080/"
        },
        "id": "TtiMiOHPOOQa",
        "outputId": "a8cd0baf-8516-47c9-a303-e313f519f6b7"
      },
      "outputs": [
        {
          "output_type": "stream",
          "name": "stdout",
          "text": [
            "(6724, 224, 224, 3)\n"
          ]
        }
      ],
      "source": [
        "x_train=np.array([i[0]for i in training_data]).reshape(-1,img_size,img_size,3)\n",
        "\n",
        "\n",
        "print(x_train.shape)\n",
        "#print(x_train)\n",
        "y_train=[i[1]for i in training_data]\n",
        "#print(y_train)\n",
        "\n",
        "    \n",
        "      \n",
        "\n",
        "\n",
        "    \n",
        "    "
      ]
    },
    {
      "cell_type": "code",
      "execution_count": 11,
      "metadata": {
        "id": "yvgDZlBfOOQa",
        "colab": {
          "base_uri": "https://localhost:8080/"
        },
        "outputId": "3b3a6e6d-0cc8-4727-b3db-b973d397184e"
      },
      "outputs": [
        {
          "output_type": "stream",
          "name": "stderr",
          "text": [
            "WARNING:tensorflow:From /usr/local/lib/python3.8/dist-packages/tflearn/initializations.py:110: calling UniformUnitScaling.__init__ (from tensorflow.python.ops.init_ops) with dtype is deprecated and will be removed in a future version.\n",
            "Instructions for updating:\n",
            "Call initializer instance with the dtype argument instead of passing it to the constructor\n",
            "WARNING:tensorflow:From /usr/local/lib/python3.8/dist-packages/tensorflow/python/util/deprecation.py:561: UniformUnitScaling.__init__ (from tensorflow.python.ops.init_ops) is deprecated and will be removed in a future version.\n",
            "Instructions for updating:\n",
            "Use tf.initializers.variance_scaling instead with distribution=uniform to get equivalent behavior.\n",
            "WARNING:tensorflow:From /usr/local/lib/python3.8/dist-packages/tflearn/initializations.py:164: calling TruncatedNormal.__init__ (from tensorflow.python.ops.init_ops) with dtype is deprecated and will be removed in a future version.\n",
            "Instructions for updating:\n",
            "Call initializer instance with the dtype argument instead of passing it to the constructor\n",
            "WARNING:tensorflow:From /usr/local/lib/python3.8/dist-packages/tensorflow/python/util/dispatch.py:1082: calling dropout (from tensorflow.python.ops.nn_ops) with keep_prob is deprecated and will be removed in a future version.\n",
            "Instructions for updating:\n",
            "Please use `rate` instead of `keep_prob`. Rate should be set to `rate = 1 - keep_prob`.\n"
          ]
        }
      ],
      "source": [
        "LR=0.001\n",
        "tf.compat.v1.reset_default_graph()\n",
        "conv_input=input_data(shape=[None,img_size,img_size,3],name=\"input\")\n",
        "conv1 = conv_2d(conv_input, 32, 3, activation='relu')\n",
        "pool1 = max_pool_2d(conv1, 5)\n",
        "conv2 = conv_2d(pool1, 64, 3, activation='relu')\n",
        "pool2 = max_pool_2d(conv2, 5)\n",
        "\n",
        "\n",
        "conv3 = conv_2d(pool2, 128, 3, activation='relu')\n",
        "pool3 = max_pool_2d(conv3, 5)\n",
        "\n",
        "conv4 = conv_2d(pool3, 256,3,activation='relu')\n",
        "pool4 = max_pool_2d(conv4,5)\n",
        "\n",
        "\n",
        "conv5 = conv_2d(pool4, 128,3,activation='relu')\n",
        "pool5 = max_pool_2d(conv5,5)\n",
        "\n",
        "\n",
        "conv6 = conv_2d(pool5, 64,3,activation='relu')\n",
        "pool6 = max_pool_2d(conv6,5)\n",
        "\n",
        "conv7 = conv_2d(pool6, 32,3,activation='relu')\n",
        "pool7 = max_pool_2d(conv7,5)\n",
        "\n",
        "\n",
        "# conv3 = conv_2d(pool2, 256, 5, activation='relu')\n",
        "# pool3 = max_pool_2d(conv3, 5)\n",
        "\n",
        "# conv4 = conv_2d(pool3, 64, 5, activation='relu')\n",
        "# pool4 = max_pool_2d(conv4, 5)\n",
        "\n",
        "# conv5 = conv_2d(pool4, 32, 5, activation='relu')\n",
        "# pool5 = max_pool_2d(conv5, 5)\n",
        "\n",
        "fully_layer = fully_connected(pool7, 1000, activation='relu')\n",
        "fully_layer = dropout(fully_layer, 0.5)\n",
        "\n",
        "cnn_layers = fully_connected(fully_layer, 6, activation='softmax')\n",
        "\n",
        "cnn_layers = regression(cnn_layers, optimizer='adam', learning_rate=LR, loss='categorical_crossentropy', name='targets')\n",
        "model = tflearn.DNN(cnn_layers, tensorboard_dir='log', tensorboard_verbose=3)"
      ]
    },
    {
      "cell_type": "code",
      "execution_count": 12,
      "metadata": {
        "colab": {
          "base_uri": "https://localhost:8080/"
        },
        "id": "Sg_QVpnOOOQb",
        "outputId": "0a9ee581-bb70-4104-f4d0-2ba14162015b"
      },
      "outputs": [
        {
          "output_type": "stream",
          "name": "stdout",
          "text": [
            "Training Step: 849  | total loss: \u001b[1m\u001b[32m0.28556\u001b[0m\u001b[0m | time: 429.837s\n",
            "| Adam | epoch: 010 | loss: 0.28556 - acc: 0.9052 -- iter: 5376/5379\n",
            "Training Step: 850  | total loss: \u001b[1m\u001b[32m0.26741\u001b[0m\u001b[0m | time: 436.096s\n",
            "| Adam | epoch: 010 | loss: 0.26741 - acc: 0.9116 | val_loss: 0.46637 - val_acc: 0.8558 -- iter: 5379/5379\n",
            "--\n"
          ]
        }
      ],
      "source": [
        "MODEL_NAME=\"Sports_Classification\"\n",
        "model.fit({'input': x_train}, {'targets': y_train}, n_epoch=10,\n",
        "          validation_set=(0.2),\n",
        "          snapshot_step=500, show_metric=True, run_id=MODEL_NAME)"
      ]
    },
    {
      "cell_type": "code",
      "source": [
        "model.save('model.tfl')"
      ],
      "metadata": {
        "id": "OP2WHUylIg-O"
      },
      "execution_count": 13,
      "outputs": []
    },
    {
      "cell_type": "code",
      "source": [
        "from google.colab import files\n",
        "files.download('model.tfl.data-00000-of-00001')"
      ],
      "metadata": {
        "colab": {
          "base_uri": "https://localhost:8080/",
          "height": 17
        },
        "id": "kwWZHTPDJUPZ",
        "outputId": "41951bbf-0af7-4a62-db85-56dd7b5999fc"
      },
      "execution_count": 15,
      "outputs": [
        {
          "output_type": "display_data",
          "data": {
            "text/plain": [
              "<IPython.core.display.Javascript object>"
            ],
            "application/javascript": [
              "\n",
              "    async function download(id, filename, size) {\n",
              "      if (!google.colab.kernel.accessAllowed) {\n",
              "        return;\n",
              "      }\n",
              "      const div = document.createElement('div');\n",
              "      const label = document.createElement('label');\n",
              "      label.textContent = `Downloading \"${filename}\": `;\n",
              "      div.appendChild(label);\n",
              "      const progress = document.createElement('progress');\n",
              "      progress.max = size;\n",
              "      div.appendChild(progress);\n",
              "      document.body.appendChild(div);\n",
              "\n",
              "      const buffers = [];\n",
              "      let downloaded = 0;\n",
              "\n",
              "      const channel = await google.colab.kernel.comms.open(id);\n",
              "      // Send a message to notify the kernel that we're ready.\n",
              "      channel.send({})\n",
              "\n",
              "      for await (const message of channel.messages) {\n",
              "        // Send a message to notify the kernel that we're ready.\n",
              "        channel.send({})\n",
              "        if (message.buffers) {\n",
              "          for (const buffer of message.buffers) {\n",
              "            buffers.push(buffer);\n",
              "            downloaded += buffer.byteLength;\n",
              "            progress.value = downloaded;\n",
              "          }\n",
              "        }\n",
              "      }\n",
              "      const blob = new Blob(buffers, {type: 'application/binary'});\n",
              "      const a = document.createElement('a');\n",
              "      a.href = window.URL.createObjectURL(blob);\n",
              "      a.download = filename;\n",
              "      div.appendChild(a);\n",
              "      a.click();\n",
              "      div.remove();\n",
              "    }\n",
              "  "
            ]
          },
          "metadata": {}
        },
        {
          "output_type": "display_data",
          "data": {
            "text/plain": [
              "<IPython.core.display.Javascript object>"
            ],
            "application/javascript": [
              "download(\"download_30f7f233-1708-4a49-9e47-72866b628901\", \"model.tfl.data-00000-of-00001\", 9776649)"
            ]
          },
          "metadata": {}
        }
      ]
    },
    {
      "cell_type": "code",
      "execution_count": 16,
      "metadata": {
        "colab": {
          "base_uri": "https://localhost:8080/"
        },
        "id": "kJ55OrjOOOQb",
        "outputId": "5e587fe2-39a0-46a8-9af0-d69c3280b00c"
      },
      "outputs": [
        {
          "output_type": "stream",
          "name": "stdout",
          "text": [
            "    image_name label\n",
            "0      644.jpg     5\n",
            "1      682.jpg     1\n",
            "2      570.jpg     5\n",
            "3       90.jpg     3\n",
            "4      353.jpg     2\n",
            "..         ...   ...\n",
            "683    247.jpg     1\n",
            "684    324.jpg     3\n",
            "685    325.jpg     3\n",
            "686    427.jpg     4\n",
            "687    304.jpg     1\n",
            "\n",
            "[688 rows x 2 columns]\n"
          ]
        }
      ],
      "source": [
        "import matplotlib.pyplot as plt\n",
        "output=pd.DataFrame(columns=['image_name','label'])\n",
        "i=0\n",
        "for dirname, _, filenames in os.walk('Test'):\n",
        "    for filename in filenames:\n",
        "\n",
        "        \n",
        "    #print(os.path.join(filename))\n",
        "    #data=cv2.imread()\n",
        "      path=os.path.join(dirname, filename)\n",
        "        \n",
        "#         label=filename.replace('_','.')\n",
        "#         label=label.split('.')\n",
        "#         label=label[0]\n",
        "      img=cv2.imread(path,cv2.IMREAD_COLOR)\n",
        "      img = img[:, :, [2, 1, 0]]\n",
        "      test_img=cv2.resize(img,(img_size,img_size))\n",
        "#          if(label==\"Basketball\"):\n",
        "#             label=[1,0,0,0,0,0]\n",
        "#         elif(label==\"Football\"):\n",
        "#             label=[0,1,0,0,0,0]\n",
        "#         elif(label==\"Rowing\"):\n",
        "#             label=[0,0,1,0,0,0]\n",
        "#         elif(label==\"Swimming\"):\n",
        "#             label=[0,0,0,1,0,0] \n",
        "#         elif(label==\"Tennis\"):\n",
        "#             label=[0,0,0,0,1,0]\n",
        "#         elif(label==\"Yoga\"):\n",
        "#             label=[0,0,0,0,0,1]\n",
        "      test_img=test_img.reshape(img_size,img_size,3)\n",
        "      prediction=model.predict([test_img])[0]\n",
        "      max_index = np.argmax(prediction)\n",
        "      new_row={'image_name':filename,'label':max_index}\n",
        "      output=output.append(new_row,ignore_index=True)\n",
        "      # fig = plt.figure(figsize=(10, 10))\n",
        "      # ax = fig.add_subplot(111)\n",
        "      # ax.imshow(img)\n",
        "      # print(f\"Basketball: {prediction[0]}, Football: {prediction[1]},Rowing: {prediction[2]},Swimming: {prediction[3]},Tennis: {prediction[4]},Yoga: {prediction[5]}\")\n",
        "        \n",
        "      # plt.show()\n",
        "      # if(i==40):\n",
        "      #     break\n",
        "      # i+=1\n",
        "print(output)\n",
        "output.to_csv('file1.csv',index=False)"
      ]
    }
  ],
  "metadata": {
    "accelerator": "GPU",
    "colab": {
      "provenance": []
    },
    "gpuClass": "standard",
    "kernelspec": {
      "display_name": "Python 3",
      "language": "python",
      "name": "python3"
    },
    "language_info": {
      "codemirror_mode": {
        "name": "ipython",
        "version": 3
      },
      "file_extension": ".py",
      "mimetype": "text/x-python",
      "name": "python",
      "nbconvert_exporter": "python",
      "pygments_lexer": "ipython3",
      "version": "3.7.12"
    }
  },
  "nbformat": 4,
  "nbformat_minor": 0
}